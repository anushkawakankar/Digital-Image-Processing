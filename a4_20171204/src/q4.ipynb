{
 "cells": [
  {
   "cell_type": "markdown",
   "metadata": {},
   "source": [
    "# Q4"
   ]
  },
  {
   "cell_type": "code",
   "execution_count": 1,
   "metadata": {},
   "outputs": [],
   "source": [
    "import cv2\n",
    "import numpy as np\n",
    "import matplotlib.pyplot as plt\n",
    "import sys\n",
    "sys.setrecursionlimit(100000)"
   ]
  },
  {
   "cell_type": "code",
   "execution_count": 10,
   "metadata": {},
   "outputs": [
    {
     "data": {
      "image/png": "[encoded data removed]",
      "text/plain": [
       "<Figure size 720x720 with 3 Axes>"
      ]
     },
     "metadata": {
      "needs_background": "light"
     },
     "output_type": "display_data"
    }
   ],
   "source": [
    "im = cv2.imread(\"../input_data/objects.png\", 0)\n",
    "\n",
    "binary = (im > 127).astype(np.uint8)\n",
    "\n",
    "kernel = np.ones((7,9))\n",
    "solid_im = cv2.dilate(binary, kernel, iterations=1)\n",
    "solid_im = cv2.erode(solid_im, kernel, iterations=1)\n",
    "\n",
    "\n",
    "kernel = np.ones((6,6))\n",
    "hole_im = solid_im - binary\n",
    "hole_im = cv2.erode(hole_im, kernel, iterations=1)\n",
    "hole_im = cv2.dilate(hole_im, kernel, iterations=1)\n",
    "\n",
    "plt.figure(figsize=(10,10))\n",
    "plt.subplot(131)\n",
    "plt.imshow(binary, cmap='gray')\n",
    "plt.subplot(132)\n",
    "plt.imshow(solid_im, cmap='gray')\n",
    "plt.subplot(133)\n",
    "plt.imshow(hole_im, cmap='gray')\n",
    "plt.show()\n"
   ]
  },
  {
   "cell_type": "markdown",
   "metadata": {},
   "source": [
    "# 1. Objects with one or more holes"
   ]
  },
  {
   "cell_type": "code",
   "execution_count": 11,
   "metadata": {},
   "outputs": [],
   "source": [
    "def dfs(x, y, im, out, visited):\n",
    "    if(x<0 or x>=im.shape[0]):  \n",
    "        return 0\n",
    "    if(y<0 or y>=im.shape[1]):\n",
    "        return 0\n",
    "    if (visited[x,y]==1):\n",
    "        return 0\n",
    "    \n",
    "    visited[x,y] = 1\n",
    "    \n",
    "    if(im[x,y] == 1):\n",
    "        out[x,y] = 1\n",
    "        dfs(x+1, y, im, out, visited)\n",
    "        dfs(x, y+1, im, out, visited)\n",
    "        dfs(x, y-1, im, out, visited)\n",
    "        dfs(x-1, y, im, out, visited)  \n",
    "    \n",
    "    return 0\n",
    "\n",
    "def conn4(temp,im):\n",
    "    number=0\n",
    "    \n",
    "    out = np.zeros(im.shape)\n",
    "    visited = np.zeros(im.shape)    \n",
    "    for i in range(im.shape[0]):\n",
    "        for j in range(im.shape[1]):\n",
    "            if(visited[i,j]==0 and temp[i,j]==1):\n",
    "                number = number+1\n",
    "                dfs(i, j, im, out, visited)\n",
    "    \n",
    "    return number, out"
   ]
  },
  {
   "cell_type": "code",
   "execution_count": 14,
   "metadata": {},
   "outputs": [
    {
     "name": "stdout",
     "output_type": "stream",
     "text": [
      "Number of objects with one or more holes: 6\n"
     ]
    },
    {
     "data": {
      "image/png": "[encoded data removed]",
      "text/plain": [
       "<Figure size 432x288 with 1 Axes>"
      ]
     },
     "metadata": {
      "needs_background": "light"
     },
     "output_type": "display_data"
    }
   ],
   "source": [
    "num_holes, holes = conn4(hole_im, solid_im)\n",
    "\n",
    "biq = np.logical_and(holes, binary).astype(np.uint8)\n",
    "plt.imshow(biq, cmap='gray')\n",
    "print(\"Number of objects with one or more holes:\", num_holes)"
   ]
  },
  {
   "cell_type": "markdown",
   "metadata": {},
   "source": [
    "# 2. Square Objects"
   ]
  },
  {
   "cell_type": "code",
   "execution_count": 5,
   "metadata": {},
   "outputs": [],
   "source": [
    "def filtered(im,filt):\n",
    "    w, h = im.shape\n",
    "    \n",
    "    padded_im = np.zeros((w+2, h+2))\n",
    "    padded_im[1:-1, 1:-1] = im\n",
    "\n",
    "    out = np.zeros((w, h))\n",
    "    for i in range(1, w+1):\n",
    "        for j in range(1, h+1):\n",
    "            size = np.sum(np.equal(padded_im[i-1:i+2, j-1: j+2], filt))\n",
    "            if  size == filt.size:\n",
    "                out[i-1, j-1] = 1\n",
    "    return out"
   ]
  },
  {
   "cell_type": "code",
   "execution_count": 15,
   "metadata": {},
   "outputs": [
    {
     "name": "stdout",
     "output_type": "stream",
     "text": [
      "Number of square objects: 11\n"
     ]
    },
    {
     "data": {
      "image/png": "[encoded data removed]",
      "text/plain": [
       "<Figure size 432x288 with 1 Axes>"
      ]
     },
     "metadata": {
      "needs_background": "light"
     },
     "output_type": "display_data"
    }
   ],
   "source": [
    "kernel1 = np.array([[0,0,0],[0, 1, 1],[0, 1, 1]])\n",
    "\n",
    "structure = filtered(solid_im, kernel1)\n",
    "\n",
    "num_square, square = conn4(structure, solid_im)\n",
    "plt.imshow(square, cmap='gray')\n",
    "print(\"Number of square objects:\", num_square)"
   ]
  },
  {
   "cell_type": "markdown",
   "metadata": {},
   "source": [
    "# 3. Square Objects with holes"
   ]
  },
  {
   "cell_type": "code",
   "execution_count": 18,
   "metadata": {},
   "outputs": [
    {
     "data": {
      "image/png": "[encoded data removed]",
      "text/plain": [
       "<Figure size 432x288 with 1 Axes>"
      ]
     },
     "metadata": {
      "needs_background": "light"
     },
     "output_type": "display_data"
    }
   ],
   "source": [
    "square_holes = np.logical_and(square,biq)\n",
    "\n",
    "num, hole_square = conn4(square_holes, square_holes)\n",
    "\n",
    "plt.imshow(square_holes, cmap='gray')\n",
    "plt.show()"
   ]
  },
  {
   "cell_type": "markdown",
   "metadata": {},
   "source": [
    "# 4. Circular Objects with no Holes"
   ]
  },
  {
   "cell_type": "code",
   "execution_count": 21,
   "metadata": {},
   "outputs": [
    {
     "data": {
      "image/png": "[encoded data removed]",
      "text/plain": [
       "<Figure size 432x288 with 1 Axes>"
      ]
     },
     "metadata": {
      "needs_background": "light"
     },
     "output_type": "display_data"
    }
   ],
   "source": [
    "kernel1 = np.array([[1,1,0],[1, 1, 0],[1, 0, 0]])\n",
    "\n",
    "\n",
    "structure = filtered(solid_im, kernel1)\n",
    "\n",
    "num_circles, circles = conn4(structure, solid_im-holes)\n",
    "plt.imshow(circles, cmap='gray')\n",
    "plt.show()"
   ]
  },
  {
   "cell_type": "code",
   "execution_count": null,
   "metadata": {},
   "outputs": [],
   "source": []
  }
 ],
 "metadata": {
  "kernelspec": {
   "display_name": "Python 3",
   "language": "python",
   "name": "python3"
  },
  "language_info": {
   "codemirror_mode": {
    "name": "ipython",
    "version": 3
   },
   "file_extension": ".py",
   "mimetype": "text/x-python",
   "name": "python",
   "nbconvert_exporter": "python",
   "pygments_lexer": "ipython3",
   "version": "3.7.3"
  }
 },
 "nbformat": 4,
 "nbformat_minor": 2
}
